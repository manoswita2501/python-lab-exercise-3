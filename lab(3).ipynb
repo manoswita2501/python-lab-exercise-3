{
 "cells": [
  {
   "cell_type": "code",
   "execution_count": 5,
   "metadata": {},
   "outputs": [
    {
     "name": "stdout",
     "output_type": "stream",
     "text": [
      "{'Name': 'aaron', 'Domain_name': 'youtube', 'Registration_no': '6778123'}\n"
     ]
    }
   ],
   "source": [
    "def dict_string(stringsplit):\n",
    "    items = stringsplit.split('_')\n",
    "    \n",
    "    # Cleaning up extra spaces after each item (if, present)\n",
    "    items = [item.strip() for item in items if item.strip()]\n",
    "\n",
    "    if len(items) == 3:\n",
    "        new_dict = {\n",
    "            \"Name\": items[0],\n",
    "            \"Domain_name\": items[1],\n",
    "            \"Registration_no\": items[2]\n",
    "        }\n",
    "        return new_dict\n",
    "    else:\n",
    "        return None  # Returning None if the user has enter an incorrect input format\n",
    "\n",
    "# Taking the encoded string as user input \n",
    "input_string = input(\"Enter your encoded string: \")\n",
    "\n",
    "result = dict_string(input_string)\n",
    "if result:\n",
    "    print(result)\n",
    "else:\n",
    "    print(\"Invalid input format.\")"
   ]
  }
 ],
 "metadata": {
  "kernelspec": {
   "display_name": "Python 3",
   "language": "python",
   "name": "python3"
  },
  "language_info": {
   "codemirror_mode": {
    "name": "ipython",
    "version": 3
   },
   "file_extension": ".py",
   "mimetype": "text/x-python",
   "name": "python",
   "nbconvert_exporter": "python",
   "pygments_lexer": "ipython3",
   "version": "3.11.4"
  },
  "orig_nbformat": 4
 },
 "nbformat": 4,
 "nbformat_minor": 2
}
